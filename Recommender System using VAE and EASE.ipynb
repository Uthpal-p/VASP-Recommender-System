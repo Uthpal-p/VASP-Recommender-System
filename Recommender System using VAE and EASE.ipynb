{
 "cells": [
  {
   "cell_type": "raw",
   "id": "f589339b",
   "metadata": {
    "scrolled": true
   },
   "source": [
    "!pip install utils\n",
    "!pip install tensorflow\n",
    "!pip install tensorflow-addons"
   ]
  },
  {
   "cell_type": "code",
   "execution_count": 1,
   "id": "baedb2c1",
   "metadata": {},
   "outputs": [],
   "source": [
    "import pandas as pd\n",
    "import numpy as np\n",
    "import tensorflow as tf\n",
    "from tensorflow import keras\n",
    "from tensorflow.keras import layers\n",
    "from scipy.sparse import csr_matrix\n",
    "import matplotlib.pyplot as plt\n",
    "from collections import Counter"
   ]
  },
  {
   "cell_type": "code",
   "execution_count": 2,
   "id": "8cbac208",
   "metadata": {},
   "outputs": [],
   "source": [
    "# Using Movie lens 100K dataset\n",
    "df = pd.read_csv('ratings.csv')"
   ]
  },
  {
   "cell_type": "code",
   "execution_count": 3,
   "id": "f0de1122",
   "metadata": {},
   "outputs": [
    {
     "data": {
      "text/html": [
       "<div>\n",
       "<style scoped>\n",
       "    .dataframe tbody tr th:only-of-type {\n",
       "        vertical-align: middle;\n",
       "    }\n",
       "\n",
       "    .dataframe tbody tr th {\n",
       "        vertical-align: top;\n",
       "    }\n",
       "\n",
       "    .dataframe thead th {\n",
       "        text-align: right;\n",
       "    }\n",
       "</style>\n",
       "<table border=\"1\" class=\"dataframe\">\n",
       "  <thead>\n",
       "    <tr style=\"text-align: right;\">\n",
       "      <th></th>\n",
       "      <th>userId</th>\n",
       "      <th>movieId</th>\n",
       "      <th>rating</th>\n",
       "      <th>timestamp</th>\n",
       "    </tr>\n",
       "  </thead>\n",
       "  <tbody>\n",
       "    <tr>\n",
       "      <th>0</th>\n",
       "      <td>1</td>\n",
       "      <td>31</td>\n",
       "      <td>2.5</td>\n",
       "      <td>1260759144</td>\n",
       "    </tr>\n",
       "    <tr>\n",
       "      <th>1</th>\n",
       "      <td>1</td>\n",
       "      <td>1029</td>\n",
       "      <td>3.0</td>\n",
       "      <td>1260759179</td>\n",
       "    </tr>\n",
       "    <tr>\n",
       "      <th>2</th>\n",
       "      <td>1</td>\n",
       "      <td>1061</td>\n",
       "      <td>3.0</td>\n",
       "      <td>1260759182</td>\n",
       "    </tr>\n",
       "    <tr>\n",
       "      <th>3</th>\n",
       "      <td>1</td>\n",
       "      <td>1129</td>\n",
       "      <td>2.0</td>\n",
       "      <td>1260759185</td>\n",
       "    </tr>\n",
       "    <tr>\n",
       "      <th>4</th>\n",
       "      <td>1</td>\n",
       "      <td>1172</td>\n",
       "      <td>4.0</td>\n",
       "      <td>1260759205</td>\n",
       "    </tr>\n",
       "  </tbody>\n",
       "</table>\n",
       "</div>"
      ],
      "text/plain": [
       "   userId  movieId  rating   timestamp\n",
       "0       1       31     2.5  1260759144\n",
       "1       1     1029     3.0  1260759179\n",
       "2       1     1061     3.0  1260759182\n",
       "3       1     1129     2.0  1260759185\n",
       "4       1     1172     4.0  1260759205"
      ]
     },
     "execution_count": 3,
     "metadata": {},
     "output_type": "execute_result"
    }
   ],
   "source": [
    "df.head()"
   ]
  },
  {
   "cell_type": "markdown",
   "id": "a501b5f4",
   "metadata": {},
   "source": [
    "## Pre-Processing the data:"
   ]
  },
  {
   "cell_type": "code",
   "execution_count": 4,
   "id": "893ccb80",
   "metadata": {},
   "outputs": [],
   "source": [
    "#limiting the movieId to less than 500 to reduce the data size for the system to process easily. \n",
    "df = df[df['movieId'] <= 500]\n",
    "\n",
    "# choose movies with ratings greater than 4.5 because each user-movie interaction irrespective of the rating is considered as the movie was liked by that user for VAE \n",
    "df = df[df['rating'] >= 4.5]"
   ]
  },
  {
   "cell_type": "code",
   "execution_count": 5,
   "id": "ce12d7cd",
   "metadata": {},
   "outputs": [
    {
     "data": {
      "text/plain": [
       "94"
      ]
     },
     "execution_count": 5,
     "metadata": {},
     "output_type": "execute_result"
    }
   ],
   "source": [
    "# choose only users who have intereacted with atlest 10 movies.\n",
    "d = dict(Counter(list(df['userId'])))\n",
    "validUsers = []\n",
    "for i in d.keys():\n",
    "    if(d[i] >= 10):\n",
    "        validUsers.append(i)\n",
    "len(validUsers)"
   ]
  },
  {
   "cell_type": "code",
   "execution_count": 6,
   "id": "eceefcbc",
   "metadata": {},
   "outputs": [],
   "source": [
    "df = df.loc[df['userId'].isin(validUsers)]"
   ]
  },
  {
   "cell_type": "code",
   "execution_count": 7,
   "id": "26c0df37",
   "metadata": {},
   "outputs": [],
   "source": [
    "user_ids = df[\"userId\"].unique().tolist()"
   ]
  },
  {
   "cell_type": "code",
   "execution_count": 8,
   "id": "5ea087a7",
   "metadata": {},
   "outputs": [],
   "source": [
    "user2user_encoded = {x: i for i, x in enumerate(user_ids)}\n",
    "userencoded2user = {i: x for i, x in enumerate(user_ids)}"
   ]
  },
  {
   "cell_type": "code",
   "execution_count": 9,
   "id": "58f4d0e9",
   "metadata": {},
   "outputs": [],
   "source": [
    "movie_ids = df[\"movieId\"].unique().tolist()\n",
    "movie2movie_encoded = {x: i for i, x in enumerate(movie_ids)}\n",
    "movie_encoded2movie = {i: x for i, x in enumerate(movie_ids)}\n",
    "df[\"user\"] = df[\"userId\"].map(user2user_encoded)\n",
    "df[\"movie\"] = df[\"movieId\"].map(movie2movie_encoded)"
   ]
  },
  {
   "cell_type": "code",
   "execution_count": 10,
   "id": "5941e788",
   "metadata": {},
   "outputs": [
    {
     "data": {
      "text/html": [
       "<div>\n",
       "<style scoped>\n",
       "    .dataframe tbody tr th:only-of-type {\n",
       "        vertical-align: middle;\n",
       "    }\n",
       "\n",
       "    .dataframe tbody tr th {\n",
       "        vertical-align: top;\n",
       "    }\n",
       "\n",
       "    .dataframe thead th {\n",
       "        text-align: right;\n",
       "    }\n",
       "</style>\n",
       "<table border=\"1\" class=\"dataframe\">\n",
       "  <thead>\n",
       "    <tr style=\"text-align: right;\">\n",
       "      <th></th>\n",
       "      <th>userId</th>\n",
       "      <th>movieId</th>\n",
       "      <th>rating</th>\n",
       "      <th>timestamp</th>\n",
       "      <th>user</th>\n",
       "      <th>movie</th>\n",
       "    </tr>\n",
       "  </thead>\n",
       "  <tbody>\n",
       "    <tr>\n",
       "      <th>148</th>\n",
       "      <td>4</td>\n",
       "      <td>34</td>\n",
       "      <td>5.0</td>\n",
       "      <td>949919556</td>\n",
       "      <td>0</td>\n",
       "      <td>0</td>\n",
       "    </tr>\n",
       "    <tr>\n",
       "      <th>149</th>\n",
       "      <td>4</td>\n",
       "      <td>112</td>\n",
       "      <td>5.0</td>\n",
       "      <td>949810582</td>\n",
       "      <td>0</td>\n",
       "      <td>1</td>\n",
       "    </tr>\n",
       "    <tr>\n",
       "      <th>150</th>\n",
       "      <td>4</td>\n",
       "      <td>141</td>\n",
       "      <td>5.0</td>\n",
       "      <td>949919681</td>\n",
       "      <td>0</td>\n",
       "      <td>2</td>\n",
       "    </tr>\n",
       "    <tr>\n",
       "      <th>154</th>\n",
       "      <td>4</td>\n",
       "      <td>260</td>\n",
       "      <td>5.0</td>\n",
       "      <td>949779042</td>\n",
       "      <td>0</td>\n",
       "      <td>3</td>\n",
       "    </tr>\n",
       "    <tr>\n",
       "      <th>156</th>\n",
       "      <td>4</td>\n",
       "      <td>296</td>\n",
       "      <td>5.0</td>\n",
       "      <td>949895708</td>\n",
       "      <td>0</td>\n",
       "      <td>4</td>\n",
       "    </tr>\n",
       "    <tr>\n",
       "      <th>...</th>\n",
       "      <td>...</td>\n",
       "      <td>...</td>\n",
       "      <td>...</td>\n",
       "      <td>...</td>\n",
       "      <td>...</td>\n",
       "      <td>...</td>\n",
       "    </tr>\n",
       "    <tr>\n",
       "      <th>98451</th>\n",
       "      <td>659</td>\n",
       "      <td>300</td>\n",
       "      <td>5.0</td>\n",
       "      <td>834598140</td>\n",
       "      <td>93</td>\n",
       "      <td>51</td>\n",
       "    </tr>\n",
       "    <tr>\n",
       "      <th>98460</th>\n",
       "      <td>659</td>\n",
       "      <td>339</td>\n",
       "      <td>5.0</td>\n",
       "      <td>834999161</td>\n",
       "      <td>93</td>\n",
       "      <td>119</td>\n",
       "    </tr>\n",
       "    <tr>\n",
       "      <th>98467</th>\n",
       "      <td>659</td>\n",
       "      <td>364</td>\n",
       "      <td>5.0</td>\n",
       "      <td>834598537</td>\n",
       "      <td>93</td>\n",
       "      <td>8</td>\n",
       "    </tr>\n",
       "    <tr>\n",
       "      <th>98475</th>\n",
       "      <td>659</td>\n",
       "      <td>380</td>\n",
       "      <td>5.0</td>\n",
       "      <td>834598040</td>\n",
       "      <td>93</td>\n",
       "      <td>69</td>\n",
       "    </tr>\n",
       "    <tr>\n",
       "      <th>98489</th>\n",
       "      <td>659</td>\n",
       "      <td>500</td>\n",
       "      <td>5.0</td>\n",
       "      <td>834598679</td>\n",
       "      <td>93</td>\n",
       "      <td>112</td>\n",
       "    </tr>\n",
       "  </tbody>\n",
       "</table>\n",
       "<p>1508 rows × 6 columns</p>\n",
       "</div>"
      ],
      "text/plain": [
       "       userId  movieId  rating  timestamp  user  movie\n",
       "148         4       34     5.0  949919556     0      0\n",
       "149         4      112     5.0  949810582     0      1\n",
       "150         4      141     5.0  949919681     0      2\n",
       "154         4      260     5.0  949779042     0      3\n",
       "156         4      296     5.0  949895708     0      4\n",
       "...       ...      ...     ...        ...   ...    ...\n",
       "98451     659      300     5.0  834598140    93     51\n",
       "98460     659      339     5.0  834999161    93    119\n",
       "98467     659      364     5.0  834598537    93      8\n",
       "98475     659      380     5.0  834598040    93     69\n",
       "98489     659      500     5.0  834598679    93    112\n",
       "\n",
       "[1508 rows x 6 columns]"
      ]
     },
     "execution_count": 10,
     "metadata": {},
     "output_type": "execute_result"
    }
   ],
   "source": [
    "df \n",
    "# userID and movieId which has missing values due to preprocessing, is encoded into new IDs stored in 'user' and 'movie' column."
   ]
  },
  {
   "cell_type": "code",
   "execution_count": 11,
   "id": "e14e207e",
   "metadata": {},
   "outputs": [
    {
     "name": "stdout",
     "output_type": "stream",
     "text": [
      "Number of users: 94, Number of Movies: 266, Min rating: 4.5, Max rating: 5.0\n"
     ]
    }
   ],
   "source": [
    "num_users = len(user2user_encoded)\n",
    "num_movies = len(movie_encoded2movie)\n",
    "df[\"rating\"] = df[\"rating\"].values.astype(np.float32)\n",
    "min_rating = min(df[\"rating\"])\n",
    "max_rating = max(df[\"rating\"])\n",
    "\n",
    "print(\n",
    "    \"Number of users: {}, Number of Movies: {}, Min rating: {}, Max rating: {}\".format(\n",
    "        num_users, num_movies, min_rating, max_rating\n",
    "    )\n",
    ")"
   ]
  },
  {
   "cell_type": "markdown",
   "id": "caad4a80",
   "metadata": {},
   "source": [
    "#### Creating user-movie interaction matrix:"
   ]
  },
  {
   "cell_type": "code",
   "execution_count": 12,
   "id": "7a262659",
   "metadata": {},
   "outputs": [],
   "source": [
    "interactions = np.zeros((num_users,num_movies), dtype=float)"
   ]
  },
  {
   "cell_type": "code",
   "execution_count": 13,
   "id": "e236d2f9",
   "metadata": {},
   "outputs": [],
   "source": [
    "for ind in df.index:\n",
    "    interactions[df['user'][ind]][df['movie'][ind]] = 1"
   ]
  },
  {
   "cell_type": "code",
   "execution_count": 14,
   "id": "9e666f4f",
   "metadata": {},
   "outputs": [
    {
     "data": {
      "text/plain": [
       "(94, 266)"
      ]
     },
     "execution_count": 14,
     "metadata": {},
     "output_type": "execute_result"
    }
   ],
   "source": [
    "np.shape(interactions)"
   ]
  },
  {
   "cell_type": "code",
   "execution_count": 15,
   "id": "d638414d",
   "metadata": {},
   "outputs": [],
   "source": [
    "l_interactions = [[[0.] for i in range(266)] for j in range(94)]\n",
    "for ind in df.index:\n",
    "    l_interactions[df['user'][ind]][df['movie'][ind]] = [1.0]\n",
    "    #print(interactions[df['user'][ind]][df['movie'][ind]+1])\n",
    "\n",
    "l_interactions = [l_interactions]*1000\n",
    "train_interactions = l_interactions [:800]\n",
    "test_interactions = l_interactions [800:]\n",
    "\n",
    "train_interactions = np.array(train_interactions)\n",
    "test_interactions = np.array(test_interactions)"
   ]
  },
  {
   "cell_type": "markdown",
   "id": "ba60e794",
   "metadata": {},
   "source": [
    "# EASE Model:"
   ]
  },
  {
   "attachments": {
    "2.png": {
     "image/png": "[encoded data removed]"
    }
   },
   "cell_type": "markdown",
   "id": "56948fe8",
   "metadata": {},
   "source": [
    "![2.png](attachment:2.png)\n",
    "##### after solving the lagrangian eq., we get: "
   ]
  },
  {
   "attachments": {
    "3.png": {
     "image/png": "[encoded data removed]"
    }
   },
   "cell_type": "markdown",
   "id": "e5061e4d",
   "metadata": {},
   "source": [
    "![3.png](attachment:3.png)"
   ]
  },
  {
   "cell_type": "code",
   "execution_count": 17,
   "id": "8542c227",
   "metadata": {},
   "outputs": [],
   "source": [
    "class EASE:\n",
    "    \n",
    "    def fit(self, df,interactions, Lambda: float = 0.5):\n",
    "        \"\"\"\n",
    "        df: Dataset with user_id, item_id and rating.\n",
    "        lambda: Ridge-regularization parameter.\n",
    "        \"\"\"\n",
    "        X = csr_matrix(interactions)     # csr_matrix used to store sparse matrix    \n",
    "        self.X = X\n",
    "        #print(X)\n",
    "        G = X.T.dot(X).toarray()  # Gram Matrix G = X.t() * X    # item-item matrix\n",
    "        diagIndices = np.diag_indices(G.shape[0]) \n",
    "        G[diagIndices] += Lambda \n",
    "        P = np.linalg.inv(G)\n",
    "        B = P / (-np.diag(P)) # Weight Matrix\n",
    "        B[diagIndices] = 0\n",
    "\n",
    "        self.B = B\n",
    "        self.pred = X.dot(B)\n",
    "        # Prediction P(user, item) = X[user] * B[item]\n",
    "\n",
    "    def predictUsingVAE(self, users, items, k, watched=None):\n",
    "        for user in users:\n",
    "            if watched:\n",
    "                exclude_set = set(train.loc[train['user_id'] == user, 'item_id'])\n",
    "                candidates = [item for item in items if item not in exclude_set]\n",
    "            else:\n",
    "                candidates=items\n",
    "            pred = np.take(self.pred[user, :], candidates)\n",
    "            res = np.argsort(pred)[::-1][:k]\n",
    "            print(\"Top\",k,\"preditions for user\",user,\" and their user-movie ratings are:\")\n",
    "            UI_ratings = [round(rat,4) for rat in np.take(pred, res)]\n",
    "            pred_rating_list = zip(np.take(candidates, res),UI_ratings)\n",
    "            for i in pred_rating_list:\n",
    "                print(i)\n",
    "    def getXB(self):\n",
    "        return self.pred"
   ]
  },
  {
   "cell_type": "code",
   "execution_count": 26,
   "id": "7df7db6d",
   "metadata": {},
   "outputs": [],
   "source": [
    "EASE_op = ease.getXB()"
   ]
  },
  {
   "cell_type": "code",
   "execution_count": 27,
   "id": "65af8079",
   "metadata": {},
   "outputs": [
    {
     "data": {
      "text/plain": [
       "(94, 266)"
      ]
     },
     "execution_count": 27,
     "metadata": {},
     "output_type": "execute_result"
    }
   ],
   "source": [
    "np.shape(EASE_op)"
   ]
  },
  {
   "cell_type": "code",
   "execution_count": 28,
   "id": "156ea700",
   "metadata": {},
   "outputs": [
    {
     "data": {
      "text/plain": [
       "array([[ 8.60649724e-01,  8.05073811e-01,  8.79996845e-01, ...,\n",
       "        -7.19499106e-03, -1.02883021e-02, -1.02883021e-02],\n",
       "       [ 6.74361226e-03,  1.79258847e-03, -1.38699799e-03, ...,\n",
       "        -7.40677399e-03,  1.10920678e-03,  1.10920678e-03],\n",
       "       [-9.47244106e-03, -1.62478179e-02,  2.31178609e-02, ...,\n",
       "         8.81205649e-03,  9.62229690e-03,  9.62229690e-03],\n",
       "       ...,\n",
       "       [ 8.85425553e-01, -1.01544101e-02,  6.83017410e-02, ...,\n",
       "         3.05106018e-03,  1.97957048e-03,  1.97957048e-03],\n",
       "       [ 9.72553431e-01, -9.46933333e-03,  4.51709449e-04, ...,\n",
       "         1.35417624e-03,  9.39949867e-01,  9.39949867e-01],\n",
       "       [-2.54962086e-02,  1.24135731e-03, -1.29275312e-02, ...,\n",
       "         2.87552501e-03,  4.92025803e-03,  4.92025803e-03]])"
      ]
     },
     "execution_count": 28,
     "metadata": {},
     "output_type": "execute_result"
    }
   ],
   "source": [
    "# Matrix X_cap obtained from EASE model\n",
    "EASE_op"
   ]
  },
  {
   "cell_type": "markdown",
   "id": "8ae18423",
   "metadata": {},
   "source": [
    "# VAE:"
   ]
  },
  {
   "cell_type": "code",
   "execution_count": 29,
   "id": "a7841dff",
   "metadata": {},
   "outputs": [],
   "source": [
    "class Sampling(layers.Layer):\n",
    "    \"\"\"Uses (z_mean, z_log_var) to sample z, the vector encoding a digit.\"\"\"\n",
    "\n",
    "    def call(self, inputs):\n",
    "        z_mean, z_log_var = inputs\n",
    "        batch = tf.shape(z_mean)[0]\n",
    "        dim = tf.shape(z_mean)[1]\n",
    "        print(batch, dim)\n",
    "        epsilon = tf.keras.backend.random_normal(shape=(batch, dim), mean=0., stddev=1.)\n",
    "        return z_mean + tf.exp(0.5 * z_log_var) * epsilon"
   ]
  },
  {
   "cell_type": "code",
   "execution_count": 30,
   "id": "0fb862e3",
   "metadata": {},
   "outputs": [
    {
     "name": "stdout",
     "output_type": "stream",
     "text": [
      "Tensor(\"sampling/strided_slice:0\", shape=(), dtype=int32) Tensor(\"sampling/strided_slice_1:0\", shape=(), dtype=int32)\n",
      "Model: \"encoder\"\n",
      "__________________________________________________________________________________________________\n",
      " Layer (type)                   Output Shape         Param #     Connected to                     \n",
      "==================================================================================================\n",
      " input_1 (InputLayer)           [(None, 94, 266, 1)  0           []                               \n",
      "                                ]                                                                 \n",
      "                                                                                                  \n",
      " flatten (Flatten)              (None, 25004)        0           ['input_1[0][0]']                \n",
      "                                                                                                  \n",
      " dense (Dense)                  (None, 50)           1250250     ['flatten[0][0]']                \n",
      "                                                                                                  \n",
      " layer_normalization (LayerNorm  (None, 50)          100         ['dense[0][0]']                  \n",
      " alization)                                                                                       \n",
      "                                                                                                  \n",
      " dense_1 (Dense)                (None, 50)           2550        ['layer_normalization[0][0]']    \n",
      "                                                                                                  \n",
      " layer_normalization_1 (LayerNo  (None, 50)          100         ['dense_1[0][0]']                \n",
      " rmalization)                                                                                     \n",
      "                                                                                                  \n",
      " dense_2 (Dense)                (None, 50)           2550        ['layer_normalization_1[0][0]']  \n",
      "                                                                                                  \n",
      " layer_normalization_2 (LayerNo  (None, 50)          100         ['dense_2[0][0]']                \n",
      " rmalization)                                                                                     \n",
      "                                                                                                  \n",
      " dense_3 (Dense)                (None, 50)           2550        ['layer_normalization_2[0][0]']  \n",
      "                                                                                                  \n",
      " layer_normalization_3 (LayerNo  (None, 50)          100         ['dense_3[0][0]']                \n",
      " rmalization)                                                                                     \n",
      "                                                                                                  \n",
      " dense_4 (Dense)                (None, 50)           2550        ['layer_normalization_3[0][0]']  \n",
      "                                                                                                  \n",
      " layer_normalization_4 (LayerNo  (None, 50)          100         ['dense_4[0][0]']                \n",
      " rmalization)                                                                                     \n",
      "                                                                                                  \n",
      " dense_5 (Dense)                (None, 50)           2550        ['layer_normalization_4[0][0]']  \n",
      "                                                                                                  \n",
      " layer_normalization_5 (LayerNo  (None, 50)          100         ['dense_5[0][0]']                \n",
      " rmalization)                                                                                     \n",
      "                                                                                                  \n",
      " dense_6 (Dense)                (None, 50)           2550        ['layer_normalization_5[0][0]']  \n",
      "                                                                                                  \n",
      " layer_normalization_6 (LayerNo  (None, 50)          100         ['dense_6[0][0]']                \n",
      " rmalization)                                                                                     \n",
      "                                                                                                  \n",
      " z_mean (Dense)                 (None, 25)           1275        ['layer_normalization_6[0][0]']  \n",
      "                                                                                                  \n",
      " z_log_var (Dense)              (None, 25)           1275        ['layer_normalization_6[0][0]']  \n",
      "                                                                                                  \n",
      " sampling (Sampling)            (None, 25)           0           ['z_mean[0][0]',                 \n",
      "                                                                  'z_log_var[0][0]']              \n",
      "                                                                                                  \n",
      "==================================================================================================\n",
      "Total params: 1,268,800\n",
      "Trainable params: 1,268,800\n",
      "Non-trainable params: 0\n",
      "__________________________________________________________________________________________________\n"
     ]
    }
   ],
   "source": [
    "# Encoder Model with sampling\n",
    "\n",
    "latent_dim = 25\n",
    "batch_size = 1\n",
    "original_dim = (94,266,1)\n",
    "h = 50\n",
    "encoder_inputs = keras.Input(shape=(94,266,1))\n",
    "x = layers.Flatten()(encoder_inputs)\n",
    "#x = layers.Dense(h, activation=\"relu\")(encoder_inputs)\n",
    "x = layers.Dense(h,activation=\"relu\")(x)\n",
    "x = layers.LayerNormalization()(x)\n",
    "x = layers.Dense(h, activation=\"relu\")(x)\n",
    "x = layers.LayerNormalization()(x)\n",
    "x = layers.Dense(h, activation=\"relu\")(x)\n",
    "x = layers.LayerNormalization()(x)\n",
    "x = layers.Dense(h, activation=\"relu\")(x)\n",
    "x = layers.LayerNormalization()(x)\n",
    "x = layers.Dense(h, activation=\"relu\")(x)\n",
    "x = layers.LayerNormalization()(x)\n",
    "x = layers.Dense(h, activation=\"relu\")(x)\n",
    "x = layers.LayerNormalization()(x)\n",
    "x = layers.Dense(h, activation=\"relu\")(x)\n",
    "x = layers.LayerNormalization()(x)\n",
    "z_mean = layers.Dense(latent_dim, name=\"z_mean\")(x)\n",
    "z_log_var = layers.Dense(latent_dim, name=\"z_log_var\")(x)\n",
    "z = Sampling()([z_mean, z_log_var])\n",
    "encoder = keras.Model(encoder_inputs, [z_mean, z_log_var, z], name=\"encoder\")\n",
    "encoder.summary()"
   ]
  },
  {
   "cell_type": "code",
   "execution_count": 31,
   "id": "8abd2c31",
   "metadata": {},
   "outputs": [
    {
     "name": "stdout",
     "output_type": "stream",
     "text": [
      "Model: \"decoder\"\n",
      "_________________________________________________________________\n",
      " Layer (type)                Output Shape              Param #   \n",
      "=================================================================\n",
      " input_2 (InputLayer)        [(None, 25)]              0         \n",
      "                                                                 \n",
      " dense_7 (Dense)             (None, 50)                1300      \n",
      "                                                                 \n",
      " layer_normalization_7 (Laye  (None, 50)               100       \n",
      " rNormalization)                                                 \n",
      "                                                                 \n",
      " dense_8 (Dense)             (None, 50)                2550      \n",
      "                                                                 \n",
      " layer_normalization_8 (Laye  (None, 50)               100       \n",
      " rNormalization)                                                 \n",
      "                                                                 \n",
      " dense_9 (Dense)             (None, 50)                2550      \n",
      "                                                                 \n",
      " layer_normalization_9 (Laye  (None, 50)               100       \n",
      " rNormalization)                                                 \n",
      "                                                                 \n",
      " dense_10 (Dense)            (None, 50)                2550      \n",
      "                                                                 \n",
      " layer_normalization_10 (Lay  (None, 50)               100       \n",
      " erNormalization)                                                \n",
      "                                                                 \n",
      " dense_11 (Dense)            (None, 25004)             1275204   \n",
      "                                                                 \n",
      " reshape (Reshape)           (None, 94, 266, 1)        0         \n",
      "                                                                 \n",
      "=================================================================\n",
      "Total params: 1,284,554\n",
      "Trainable params: 1,284,554\n",
      "Non-trainable params: 0\n",
      "_________________________________________________________________\n"
     ]
    }
   ],
   "source": [
    "# Decoder Model\n",
    "\n",
    "latent_inputs = keras.Input(shape=(latent_dim,))\n",
    "x = layers.Dense(h,activation=\"relu\")(latent_inputs)\n",
    "x = layers.LayerNormalization()(x)\n",
    "x = layers.Dense(h, activation=\"relu\")(x)\n",
    "x = layers.LayerNormalization()(x)\n",
    "x = layers.Dense(h, activation=\"relu\")(x)\n",
    "x = layers.LayerNormalization()(x)\n",
    "x = layers.Dense(h, activation=\"relu\")(x)\n",
    "x = layers.LayerNormalization()(x)\n",
    "x = layers.Dense(94*266, activation=\"sigmoid\")(x)\n",
    "decoder_outputs = layers.Reshape((94, 266,1))(x)\n",
    "decoder = keras.Model(latent_inputs, decoder_outputs, name=\"decoder\")\n",
    "decoder.summary()"
   ]
  },
  {
   "cell_type": "code",
   "execution_count": 32,
   "id": "4f2897b4",
   "metadata": {},
   "outputs": [],
   "source": [
    "class VAE(keras.Model):\n",
    "    def __init__(self, encoder, decoder, **kwargs):\n",
    "        super(VAE, self).__init__(**kwargs)\n",
    "        self.encoder = encoder\n",
    "        self.decoder = decoder\n",
    "        self.total_loss_tracker = keras.metrics.Mean(name=\"total_loss\")\n",
    "        self.reconstruction_loss_tracker = keras.metrics.Mean(\n",
    "            name=\"reconstruction_loss\"\n",
    "        )\n",
    "        self.kl_loss_tracker = keras.metrics.Mean(name=\"kl_loss\")\n",
    "\n",
    "    @property\n",
    "    def metrics(self):\n",
    "        return [\n",
    "            self.total_loss_tracker,\n",
    "            self.reconstruction_loss_tracker,\n",
    "            self.kl_loss_tracker,\n",
    "        ]\n",
    "\n",
    "    def train_step(self, data):\n",
    "        with tf.GradientTape() as tape:\n",
    "            z_mean, z_log_var, z = self.encoder(data)\n",
    "            reconstruction = self.decoder(z)\n",
    "            reconstruction_loss = tf.reduce_mean(\n",
    "                tf.reduce_sum(\n",
    "                    keras.losses.binary_crossentropy(data, reconstruction), axis=(1, 2)\n",
    "                )\n",
    "            )\n",
    "            kl_loss = -0.5 * (1 + z_log_var - tf.square(z_mean) - tf.exp(z_log_var))\n",
    "            kl_loss = tf.reduce_mean(tf.reduce_sum(kl_loss, axis=1))\n",
    "            total_loss = reconstruction_loss + kl_loss\n",
    "        grads = tape.gradient(total_loss, self.trainable_weights)\n",
    "        self.optimizer.apply_gradients(zip(grads, self.trainable_weights))\n",
    "        self.total_loss_tracker.update_state(total_loss)\n",
    "        self.reconstruction_loss_tracker.update_state(reconstruction_loss)\n",
    "        self.kl_loss_tracker.update_state(kl_loss)\n",
    "        return {\n",
    "            \"loss\": self.total_loss_tracker.result(),\n",
    "            \"reconstruction_loss\": self.reconstruction_loss_tracker.result(),\n",
    "            \"kl_loss\": self.kl_loss_tracker.result(),\n",
    "        }"
   ]
  },
  {
   "cell_type": "code",
   "execution_count": 33,
   "id": "a2a055b0",
   "metadata": {},
   "outputs": [],
   "source": [
    "vae = VAE(encoder, decoder)\n",
    "vae.compile(optimizer=keras.optimizers.Adam())"
   ]
  },
  {
   "cell_type": "code",
   "execution_count": 34,
   "id": "703b765d",
   "metadata": {},
   "outputs": [
    {
     "name": "stdout",
     "output_type": "stream",
     "text": [
      "Epoch 1/30\n",
      "Tensor(\"encoder/sampling/strided_slice:0\", shape=(), dtype=int32) Tensor(\"encoder/sampling/strided_slice_1:0\", shape=(), dtype=int32)\n",
      "Tensor(\"encoder/sampling/strided_slice:0\", shape=(), dtype=int32) Tensor(\"encoder/sampling/strided_slice_1:0\", shape=(), dtype=int32)\n",
      "13/13 [==============================] - 8s 119ms/step - loss: 16472.4623 - reconstruction_loss: 15311.9395 - kl_loss: 32.5537\n",
      "Epoch 2/30\n",
      "13/13 [==============================] - 1s 114ms/step - loss: 10572.4506 - reconstruction_loss: 9376.6104 - kl_loss: 35.5667\n",
      "Epoch 3/30\n",
      "13/13 [==============================] - 2s 120ms/step - loss: 5968.5449 - reconstruction_loss: 5272.6045 - kl_loss: 37.0474\n",
      "Epoch 4/30\n",
      "13/13 [==============================] - 2s 145ms/step - loss: 3449.5264 - reconstruction_loss: 3082.7654 - kl_loss: 28.7744\n",
      "Epoch 5/30\n",
      "13/13 [==============================] - 2s 151ms/step - loss: 2160.6170 - reconstruction_loss: 1962.5236 - kl_loss: 22.4464\n",
      "Epoch 6/30\n",
      "13/13 [==============================] - 2s 139ms/step - loss: 1476.8532 - reconstruction_loss: 1359.4133 - kl_loss: 18.6680\n",
      "Epoch 7/30\n",
      "13/13 [==============================] - 2s 144ms/step - loss: 1082.7399 - reconstruction_loss: 1005.7597 - kl_loss: 16.0007\n",
      "Epoch 8/30\n",
      "13/13 [==============================] - 2s 122ms/step - loss: 834.3690 - reconstruction_loss: 780.5930 - kl_loss: 13.4684\n",
      "Epoch 9/30\n",
      "13/13 [==============================] - 2s 121ms/step - loss: 666.8071 - reconstruction_loss: 626.5722 - kl_loss: 11.8811\n",
      "Epoch 10/30\n",
      "13/13 [==============================] - 2s 120ms/step - loss: 547.1873 - reconstruction_loss: 515.4984 - kl_loss: 10.7581\n",
      "Epoch 11/30\n",
      "13/13 [==============================] - 2s 118ms/step - loss: 460.3088 - reconstruction_loss: 433.7840 - kl_loss: 15.2076\n",
      "Epoch 12/30\n",
      "13/13 [==============================] - 2s 121ms/step - loss: 405.6799 - reconstruction_loss: 367.8649 - kl_loss: 23.0650\n",
      "Epoch 13/30\n",
      "13/13 [==============================] - 2s 136ms/step - loss: 342.8277 - reconstruction_loss: 319.0909 - kl_loss: 12.7435\n",
      "Epoch 14/30\n",
      "13/13 [==============================] - 2s 146ms/step - loss: 296.1263 - reconstruction_loss: 278.6323 - kl_loss: 9.2355\n",
      "Epoch 15/30\n",
      "13/13 [==============================] - 2s 129ms/step - loss: 260.0055 - reconstruction_loss: 245.6004 - kl_loss: 7.8402\n",
      "Epoch 16/30\n",
      "13/13 [==============================] - 2s 166ms/step - loss: 230.9722 - reconstruction_loss: 217.7258 - kl_loss: 7.7725\n",
      "Epoch 17/30\n",
      "13/13 [==============================] - 2s 191ms/step - loss: 206.3063 - reconstruction_loss: 194.8127 - kl_loss: 6.8958\n",
      "Epoch 18/30\n",
      "13/13 [==============================] - 2s 140ms/step - loss: 185.7450 - reconstruction_loss: 175.0830 - kl_loss: 6.7502\n",
      "Epoch 19/30\n",
      "13/13 [==============================] - 2s 174ms/step - loss: 168.3162 - reconstruction_loss: 158.9857 - kl_loss: 6.0445\n",
      "Epoch 20/30\n",
      "13/13 [==============================] - 2s 159ms/step - loss: 153.8633 - reconstruction_loss: 144.3586 - kl_loss: 6.7513\n",
      "Epoch 21/30\n",
      "13/13 [==============================] - 2s 145ms/step - loss: 141.1085 - reconstruction_loss: 131.7758 - kl_loss: 6.5383\n",
      "Epoch 22/30\n",
      "13/13 [==============================] - 2s 131ms/step - loss: 129.1306 - reconstruction_loss: 121.4441 - kl_loss: 5.6130\n",
      "Epoch 23/30\n",
      "13/13 [==============================] - 2s 123ms/step - loss: 119.3249 - reconstruction_loss: 111.5724 - kl_loss: 6.0752\n",
      "Epoch 24/30\n",
      "13/13 [==============================] - 2s 122ms/step - loss: 112.2467 - reconstruction_loss: 102.7188 - kl_loss: 7.2438\n",
      "Epoch 25/30\n",
      "13/13 [==============================] - 2s 145ms/step - loss: 103.8131 - reconstruction_loss: 99.1925 - kl_loss: 6.0555\n",
      "Epoch 26/30\n",
      "13/13 [==============================] - 2s 190ms/step - loss: 111.1593 - reconstruction_loss: 88.0863 - kl_loss: 21.8638\n",
      "Epoch 27/30\n",
      "13/13 [==============================] - 2s 134ms/step - loss: 102.0109 - reconstruction_loss: 83.5266 - kl_loss: 18.8290\n",
      "Epoch 28/30\n",
      "13/13 [==============================] - 2s 130ms/step - loss: 96.5225 - reconstruction_loss: 76.6415 - kl_loss: 17.0119\n",
      "Epoch 29/30\n",
      "13/13 [==============================] - 2s 122ms/step - loss: 84.2519 - reconstruction_loss: 72.2256 - kl_loss: 10.3145\n",
      "Epoch 30/30\n",
      "13/13 [==============================] - 2s 121ms/step - loss: 77.2670 - reconstruction_loss: 67.8063 - kl_loss: 8.1844\n"
     ]
    },
    {
     "data": {
      "text/plain": [
       "<keras.callbacks.History at 0x1d642cda640>"
      ]
     },
     "execution_count": 34,
     "metadata": {},
     "output_type": "execute_result"
    }
   ],
   "source": [
    "vae.fit(train_interactions, epochs=30, batch_size=64)"
   ]
  },
  {
   "cell_type": "code",
   "execution_count": 35,
   "id": "482cf0ed",
   "metadata": {},
   "outputs": [
    {
     "name": "stdout",
     "output_type": "stream",
     "text": [
      "Tensor(\"encoder/sampling/strided_slice:0\", shape=(), dtype=int32) Tensor(\"encoder/sampling/strided_slice_1:0\", shape=(), dtype=int32)\n"
     ]
    }
   ],
   "source": [
    "Z_mean,Z_var,encoder_output = vae.encoder.predict(test_interactions)"
   ]
  },
  {
   "cell_type": "code",
   "execution_count": 36,
   "id": "7af97501",
   "metadata": {},
   "outputs": [],
   "source": [
    "decoder_op = vae.decoder.predict(encoder_output)"
   ]
  },
  {
   "cell_type": "code",
   "execution_count": 37,
   "id": "e52accd6",
   "metadata": {},
   "outputs": [
    {
     "name": "stdout",
     "output_type": "stream",
     "text": [
      "[[[0.9973583 ]\n",
      "  [0.99745345]\n",
      "  [0.99739456]\n",
      "  ...\n",
      "  [0.00251538]\n",
      "  [0.00259602]\n",
      "  [0.00268501]]\n",
      "\n",
      " [[0.0025903 ]\n",
      "  [0.00246957]\n",
      "  [0.00269395]\n",
      "  ...\n",
      "  [0.00247973]\n",
      "  [0.00273713]\n",
      "  [0.00255924]]\n",
      "\n",
      " [[0.00239146]\n",
      "  [0.00246084]\n",
      "  [0.00260991]\n",
      "  ...\n",
      "  [0.0025647 ]\n",
      "  [0.00262904]\n",
      "  [0.00248522]]\n",
      "\n",
      " ...\n",
      "\n",
      " [[0.9975449 ]\n",
      "  [0.00272965]\n",
      "  [0.00252059]\n",
      "  ...\n",
      "  [0.00240859]\n",
      "  [0.00238767]\n",
      "  [0.00256118]]\n",
      "\n",
      " [[0.9973837 ]\n",
      "  [0.00266689]\n",
      "  [0.00260186]\n",
      "  ...\n",
      "  [0.00265571]\n",
      "  [0.9973542 ]\n",
      "  [0.9973943 ]]\n",
      "\n",
      " [[0.00266665]\n",
      "  [0.00243083]\n",
      "  [0.00239906]\n",
      "  ...\n",
      "  [0.00266209]\n",
      "  [0.00262743]\n",
      "  [0.00251532]]]\n"
     ]
    }
   ],
   "source": [
    "# x_hat output obtained from VAE\n",
    "print(decoder_op[0])"
   ]
  },
  {
   "cell_type": "code",
   "execution_count": 38,
   "id": "4f69ea6a",
   "metadata": {},
   "outputs": [],
   "source": [
    "l = [[] for i in range(94)]\n",
    "for i in range(94):\n",
    "    for j in range(266):\n",
    "        l[i].append(decoder_op[0][i][j][0])"
   ]
  },
  {
   "cell_type": "code",
   "execution_count": 39,
   "id": "89a70fbb",
   "metadata": {},
   "outputs": [],
   "source": [
    "op_vae = np.array(l)"
   ]
  },
  {
   "cell_type": "code",
   "execution_count": 40,
   "id": "0972f911",
   "metadata": {},
   "outputs": [
    {
     "data": {
      "text/plain": [
       "(94, 266)"
      ]
     },
     "execution_count": 40,
     "metadata": {},
     "output_type": "execute_result"
    }
   ],
   "source": [
    "op_vae.shape"
   ]
  },
  {
   "cell_type": "markdown",
   "id": "18a4e234",
   "metadata": {},
   "source": [
    "# Hadamard Product of EASE and VAE outputs: "
   ]
  },
  {
   "cell_type": "code",
   "execution_count": 41,
   "id": "1eb1ca6b",
   "metadata": {},
   "outputs": [],
   "source": [
    "vasp_output = np.multiply(op_vae,EASE_op)"
   ]
  },
  {
   "cell_type": "code",
   "execution_count": 42,
   "id": "83d9f68a",
   "metadata": {},
   "outputs": [
    {
     "data": {
      "text/plain": [
       "array([[ 8.58376164e-01,  8.03023651e-01,  8.77704067e-01, ...,\n",
       "        -1.80981051e-05, -2.67086453e-05, -2.76241986e-05],\n",
       "       [ 1.74679697e-05,  4.42692172e-06, -3.73650480e-06, ...,\n",
       "        -1.83668148e-05,  3.03604836e-06,  2.83873150e-06],\n",
       "       [-2.26529408e-05, -3.99832374e-05,  6.03355036e-05, ...,\n",
       "         2.26002677e-05,  2.52974195e-05,  2.39134830e-05],\n",
       "       ...,\n",
       "       [ 8.83251731e-01, -2.77180293e-05,  1.72160755e-04, ...,\n",
       "         7.34876491e-06,  4.72656632e-06,  5.07003986e-06],\n",
       "       [ 9.70008952e-01, -2.52536762e-05,  1.17528563e-06, ...,\n",
       "         3.59630580e-06,  9.37462957e-01,  9.37500662e-01],\n",
       "       [-6.79895207e-05,  3.01752416e-06, -3.10138861e-05, ...,\n",
       "         7.65491341e-06,  1.29276451e-05,  1.23760038e-05]])"
      ]
     },
     "execution_count": 42,
     "metadata": {},
     "output_type": "execute_result"
    }
   ],
   "source": [
    "vasp_output # X_hat obtained after hadamard product."
   ]
  },
  {
   "cell_type": "code",
   "execution_count": 47,
   "id": "465662b9",
   "metadata": {},
   "outputs": [],
   "source": [
    "def final_pred(vasp_op, users, items, k):\n",
    "        for user in users:\n",
    "            candidates=items\n",
    "            pred = np.take(vasp_op[user, :], candidates)\n",
    "            res = np.argsort(pred)[::-1][:k]\n",
    "            print(\"Top\",k,\" movie predictions for user\",user,\"\")\n",
    "            UI_ratings = [round(rat,5) for rat in np.take(pred, res)]\n",
    "            pred_rating_list = np.take(candidates, res)\n",
    "            for i in pred_rating_list:\n",
    "                print(i)"
   ]
  },
  {
   "cell_type": "code",
   "execution_count": 48,
   "id": "839ed335",
   "metadata": {},
   "outputs": [
    {
     "name": "stdout",
     "output_type": "stream",
     "text": [
      "Top 5  movie preditions for user 0 \n",
      "1\n",
      "112\n",
      "20\n",
      "265\n",
      "132\n",
      "Top 5  movie preditions for user 3 \n",
      "20\n",
      "112\n",
      "132\n",
      "265\n",
      "1\n",
      "Top 5  movie preditions for user 44 \n",
      "112\n",
      "265\n",
      "1\n",
      "20\n",
      "132\n",
      "Top 5  movie preditions for user 93 \n",
      "112\n",
      "265\n",
      "1\n",
      "20\n",
      "132\n"
     ]
    }
   ],
   "source": [
    "# final_pred(vasp_output, list of users , list of movies to predict from [movieIDs], top-k )\n",
    "# final_pred( [userIDs], [movieIDs], k)\n",
    "final_pred(vasp_output,[0,3,44,93],[1,265,20,132,112],5)\n",
    "#output - MovieIDs ."
   ]
  },
  {
   "cell_type": "code",
   "execution_count": null,
   "id": "1baa5139",
   "metadata": {},
   "outputs": [],
   "source": []
  }
 ],
 "metadata": {
  "kernelspec": {
   "display_name": "Python 3 (ipykernel)",
   "language": "python",
   "name": "python3"
  },
  "language_info": {
   "codemirror_mode": {
    "name": "ipython",
    "version": 3
   },
   "file_extension": ".py",
   "mimetype": "text/x-python",
   "name": "python",
   "nbconvert_exporter": "python",
   "pygments_lexer": "ipython3",
   "version": "3.9.7"
  }
 },
 "nbformat": 4,
 "nbformat_minor": 5
}
